{
 "cells": [
  {
   "cell_type": "code",
   "execution_count": 1,
   "metadata": {},
   "outputs": [],
   "source": [
    "# -*- coding: utf-8 -*-"
   ]
  },
  {
   "cell_type": "markdown",
   "metadata": {},
   "source": [
    "# ケーブル連携方法\n",
    "- 首：基盤 [::: 空白]の下側を左からBRY\n",
    "- 髪の毛とおかん：ケーブル同士の接続は、黒と茶色"
   ]
  },
  {
   "cell_type": "markdown",
   "metadata": {},
   "source": [
    "# ライブラリインポート"
   ]
  },
  {
   "cell_type": "code",
   "execution_count": 317,
   "metadata": {},
   "outputs": [],
   "source": [
    "# import libaries\n",
    "import pyaudio #音声wav入出力\n",
    "import pygame #mp3再生\n",
    "from mutagen.mp3 import MP3 #ファイル再生時間取得\n",
    "import wave #音声波長データ\n",
    "import threading\n",
    "import time\n",
    "import numpy as np\n",
    "import serial\n",
    "\n",
    "#import sys\n",
    "#sys.path.append(\"/Users/kimiaki/.pyenv/versions/2.7.13/lib/python2.7/site-packages\")\n",
    "#import serial"
   ]
  },
  {
   "cell_type": "markdown",
   "metadata": {},
   "source": [
    "# 関数作成"
   ]
  },
  {
   "cell_type": "code",
   "execution_count": 318,
   "metadata": {},
   "outputs": [],
   "source": [
    "# 関数作成\n",
    "\n",
    "# 首の初期化\n",
    "def initialize_neck(ser):\n",
    "    ser.write(b'j')\n",
    "    ser.write(b'D')\n",
    "    \n",
    "# 首を動かす\n",
    "def move_neck(ser, neck_count = 0):\n",
    "    ser.write('{}'.format(neck_level[neck_count]).encode())\n",
    "\n",
    "# 髪の毛を揺らす\n",
    "def move_hair(ser):\n",
    "    ser.write(b'B')\n",
    "    time.sleep(0.2)\n",
    "    ser.write(b'D')\n",
    "    time.sleep(0.2)\n",
    "    ser.write(b'B')\n",
    "    time.sleep(0.2)\n",
    "    ser.write(b'D')\n",
    "    \n",
    "# 髪の毛を飛ばす\n",
    "def shot_hair(ser):\n",
    "    ser.write(b'J')\n",
    "    shout_voice1(\"voice/飛ぶ音.mp3\")\n",
    "    #time.sleep(0.2)\n",
    "    \n",
    "\n",
    "# 指定の音声ファイルを出力(wav)\n",
    "def shout_voice(filename = \"\"):\n",
    "    print(\"音声開始\")\n",
    "    CHUNK = 1024\n",
    "    if filename == \"\":\n",
    "        filename = \"voice/bakamon.wav\"\n",
    "    wf = wave.open(filename, 'rb')\n",
    "    p = pyaudio.PyAudio()\n",
    "    stream = p.open(format=p.get_format_from_width(wf.getsampwidth()),\n",
    "                    channels=wf.getnchannels(),\n",
    "                    rate=wf.getframerate(),\n",
    "                    output=True)\n",
    "    # 1024個読み取り\n",
    "    data = wf.readframes(CHUNK)\n",
    "    while data != '':\n",
    "        stream.write(data)          \n",
    "        data = wf.readframes(CHUNK) \n",
    "\n",
    "    stream.stop_stream()\n",
    "    stream.close()\n",
    "    p.terminate()\n",
    "    print(\"音声終了\")\n",
    "\n",
    "# 指定の音声ファイルを出力(mp3)\n",
    "def shout_voice1(filename = \"\"):\n",
    "    # ファイル再生時間取得\n",
    "    audio = MP3(filename)\n",
    "    # 再生\n",
    "    pygame.mixer.init()\n",
    "    pygame.mixer.music.load(filename)\n",
    "    pygame.mixer.music.play(1)\n",
    "    time.sleep(audio.info.length + 0.5)\n",
    "    #pygame.mixer.music.set_volume(3.5) # ボリュームの設定\n",
    "    #pygame.mixer.music.queue('voice/時間オーバー.mp3') # 次のファイル設定\n",
    "\n",
    "\n",
    "# ゲーム終了\n",
    "def stop_game(stream, p):\n",
    "    stream.stop_stream()\n",
    "    stream.close()\n",
    "    p.terminate()"
   ]
  },
  {
   "cell_type": "code",
   "execution_count": 319,
   "metadata": {},
   "outputs": [],
   "source": [
    "# 1秒間の入力音声データから、RMSで音量算出し、最大音量を取得する\n",
    "def get_volume():\n",
    "    \n",
    "    CHUNK = 1024\n",
    "    FORMAT = pyaudio.paInt16 # int16型\n",
    "    CHANNELS = 1             # モノラル\n",
    "    RATE = 16000             # 160.kHz\n",
    "    \n",
    "\n",
    "    RECORD_SECONDS = 1       # 1秒録音\n",
    "    data_rms = []\n",
    "    loopcounter = 0\n",
    "    plottime = 1\n",
    "\n",
    "    p = pyaudio.PyAudio()\n",
    "\n",
    "    while True:\n",
    "        stream = p.open(format = pyaudio.paInt16,\n",
    "                       channels = 1,\n",
    "                       rate = 16000,\n",
    "                       input = True,\n",
    "                       frames_per_buffer = 1024)\n",
    "        all = []\n",
    "        for i in range(0, RATE / CHUNK * RECORD_SECONDS):\n",
    "            data = stream.read(CHUNK)\n",
    "            all.append(data)\n",
    "\n",
    "        data = ''.join(all)\n",
    "        data = np.frombuffer(data, dtype = \"int16\")\n",
    "\n",
    "        # numpyのarrayに変換\n",
    "        np_data = np.array(data, dtype = np.float64)\n",
    "\n",
    "        # downsampling\n",
    "        overhang = len(np_data) % 100\n",
    "        down_data = np_data[:-overhang]\n",
    "        down_data = np.reshape(down_data, (len(down_data)/100, 100))\n",
    "        down_data = np.average(down_data, 1)\n",
    "\n",
    "        # RMS計算\n",
    "        rms = np.sqrt(np.mean(np.square(down_data)))\n",
    "        #print(rms)\n",
    "        data_rms.append(rms)\n",
    "        stream.close()\n",
    "        loopcounter += 1\n",
    "        if loopcounter == plottime:\n",
    "            break\n",
    "    return rms"
   ]
  },
  {
   "cell_type": "markdown",
   "metadata": {},
   "source": [
    "### 動作確認"
   ]
  },
  {
   "cell_type": "markdown",
   "metadata": {},
   "source": [
    "## 基本動作"
   ]
  },
  {
   "cell_type": "code",
   "execution_count": 320,
   "metadata": {},
   "outputs": [],
   "source": [
    "ser = serial.Serial('/dev/tty.usbmodem14121', 9600)"
   ]
  },
  {
   "cell_type": "code",
   "execution_count": 321,
   "metadata": {},
   "outputs": [],
   "source": [
    "initialize_neck(ser)"
   ]
  },
  {
   "cell_type": "code",
   "execution_count": 322,
   "metadata": {},
   "outputs": [],
   "source": [
    "move_hair(ser)"
   ]
  },
  {
   "cell_type": "code",
   "execution_count": 323,
   "metadata": {},
   "outputs": [],
   "source": [
    "shot_hair(ser)"
   ]
  },
  {
   "cell_type": "code",
   "execution_count": 324,
   "metadata": {},
   "outputs": [],
   "source": [
    "initialize_neck(ser)"
   ]
  },
  {
   "cell_type": "code",
   "execution_count": 325,
   "metadata": {},
   "outputs": [],
   "source": [
    "neck_level = {0: 'j', 1: 'i', 2: 'h', 3: 'g', 4: 'f', 5: 'e', 6: 'd', 7: 'c', 8: 'b', 9: 'a'}\n",
    "move_neck(ser, 0)\n",
    "#ser.write(b'')"
   ]
  },
  {
   "cell_type": "markdown",
   "metadata": {},
   "source": [
    "## マイク音量の確認"
   ]
  },
  {
   "cell_type": "code",
   "execution_count": 326,
   "metadata": {},
   "outputs": [],
   "source": [
    "ser = serial.Serial('/dev/tty.usbmodem14121', 9600)"
   ]
  },
  {
   "cell_type": "code",
   "execution_count": 327,
   "metadata": {
    "scrolled": false
   },
   "outputs": [
    {
     "name": "stdout",
     "output_type": "stream",
     "text": [
      "0.10666053904\n",
      "0.115067470972\n",
      "0.0824185079792\n",
      "0.0839817907434\n",
      "0.0888525252417\n",
      "0.098319208025\n",
      "0.102759316484\n",
      "0.366928605191\n",
      "0.136444103808\n",
      "0.121108712574\n",
      "0.10031323491\n",
      "0.1125288634\n",
      "0.127412663924\n",
      "0.102130891283\n",
      "0.0929016628175\n",
      "0.0889444270942\n",
      "0.097447824149\n",
      "0.114500906181\n",
      "0.09368630734\n",
      "0.0972430416551\n"
     ]
    }
   ],
   "source": [
    "for i in range(20):\n",
    "    volume = get_volume()\n",
    "    print(volume)"
   ]
  },
  {
   "cell_type": "markdown",
   "metadata": {},
   "source": [
    "## 出力音声の確認"
   ]
  },
  {
   "cell_type": "code",
   "execution_count": 193,
   "metadata": {},
   "outputs": [],
   "source": [
    "shout_voice1(\"voice/成功.mp3\")\n",
    "shout_voice1(\"voice/時間オーバー.mp3\")\n",
    "shout_voice1(\"voice/飛ばしすぎ.mp3\")\n",
    "shout_voice1(\"voice/飛ぶ音.mp3\")"
   ]
  },
  {
   "cell_type": "code",
   "execution_count": 228,
   "metadata": {},
   "outputs": [],
   "source": [
    "import pygame\n",
    "pygame.mixer.init()\n",
    "pygame.mixer.music.load(\"voice/BGM.mp3\")\n",
    "pygame.mixer.music.play(1)\n",
    "time.sleep(10)\n",
    "pygame.mixer.music.stop()"
   ]
  },
  {
   "cell_type": "markdown",
   "metadata": {},
   "source": [
    "# ゲームコード"
   ]
  },
  {
   "cell_type": "code",
   "execution_count": 316,
   "metadata": {},
   "outputs": [
    {
     "name": "stdout",
     "output_type": "stream",
     "text": [
      "************[残りライフ：9 pt / 10 pt]************\n",
      "音量: 4.1903873033\n",
      "音量: 1.28416855938\n",
      "************[残りライフ：8 pt / 10 pt]************\n",
      "音量: 8.71542476063\n",
      "音量: 4.30550992175\n",
      "音量: 2.26121142846\n",
      "************[残りライフ：6 pt / 10 pt]************\n",
      "音量: 1.5019264318\n",
      "************[残りライフ：5 pt / 10 pt]************\n",
      "音量: 2.22084568477\n",
      "************[残りライフ：3 pt / 10 pt]************\n",
      "音量: 1.24817958947\n",
      "************[残りライフ：2 pt / 10 pt]************\n",
      "音量: 2.5753122788\n",
      "************「髪の毛飛ばし成功！」************\n",
      "2.5753122788\n",
      "Game Over\n",
      "ゲーム終了\n"
     ]
    }
   ],
   "source": [
    "CHUNK = 1024*2\n",
    "RATE = 44100\n",
    "p = pyaudio.PyAudio()\n",
    "\n",
    "# 変数を初期設定\n",
    "neck_count = 0 #首の回転\n",
    "neck_level = {0: 'j', 1: 'i', 2: 'h', 3: 'g', 4: 'f', 5: 'e', 6: 'd', 7: 'c', 8: 'b', 9: 'a'}\n",
    "\n",
    "stream = p.open(format = pyaudio.paInt16,\n",
    "                channels = 1,\n",
    "                rate = RATE,\n",
    "                frames_per_buffer = CHUNK,\n",
    "                input = True,\n",
    "                output = True) # inputとoutputを同時にTrueにする\n",
    "\n",
    "ser = serial.Serial('/dev/tty.usbmodem14121', 9600)\n",
    "\n",
    "# モーター位置を初期化\n",
    "initialize_neck(ser)\n",
    "\n",
    "# BGM開始\n",
    "pygame.mixer.init()\n",
    "pygame.mixer.music.load(\"voice/BGM.mp3\")\n",
    "pygame.mixer.music.play(1)\n",
    "\n",
    "time.sleep(2)\n",
    "\n",
    "# ゲーム開始\n",
    "check_count = neck_count\n",
    "print(\"************[残りライフ：{} pt / 10 pt]************\".format(str(9-neck_count)))\n",
    "\n",
    "# 経過計測\n",
    "start = time.time()\n",
    "\n",
    "while stream.is_active():\n",
    "    #print(\"首のカウント: {}\".format(neck_count))\n",
    "    if check_count != neck_count:\n",
    "        print(\"************[残りライフ：{} pt / 10 pt]************\".format(str(9-neck_count)))\n",
    "        check_count = neck_count\n",
    "\n",
    "    # 10秒ごとに必ず首を1つ回す\n",
    "    end = time.time()\n",
    "    elapse = end - start\n",
    "    #print(\"経過時間: {}\".format(elapse))\n",
    "    if elapse > 7 or neck_count == 9:\n",
    "        # 首を1つ回す\n",
    "        neck_count += 1\n",
    "        move_neck(ser, neck_count)\n",
    "        move_hair(ser)\n",
    "        time.sleep(1)\n",
    "        if neck_count == 9:\n",
    "            print(\"************「いい加減にバレた！」************\")\n",
    "            pygame.mixer.music.stop()\n",
    "            shout_voice1(\"voice/時間オーバー.mp3\")\n",
    "            #time.sleep(1)\n",
    "            #stop_game(stream, p)\n",
    "            break\n",
    "        start = end\n",
    "    \n",
    "    # 音量取得\n",
    "    volume = get_volume()\n",
    "    print(\"音量: {}\".format(volume))\n",
    "\n",
    "    if volume >= 1 and volume <= 4.0: #input<10:何もしない\n",
    "        if volume < 2.3: #弱すぎると、首を1つ回し、髪の毛を揺らす\n",
    "            neck_count += 1\n",
    "            move_neck(ser, neck_count) #首が動く\n",
    "            move_hair(ser) #髪が揺れる\n",
    "            time.sleep(1)\n",
    "        elif volume < 3.0: #ちょうど良いと、髪の毛飛ばし成功\n",
    "            print(\"************「髪の毛飛ばし成功！」************\")\n",
    "            print(volume)\n",
    "            pygame.mixer.music.stop()\n",
    "            shot_hair(ser) #髪の毛を飛ばす\n",
    "            shout_voice1(\"voice/成功.mp3\") #成功の音\n",
    "            shout_voice1(\"voice/驚き.mp3\") #マ○オさんが驚く\n",
    "            #time.sleep(1)\n",
    "            #stop_game(stream, p)\n",
    "            break\n",
    "        else: #強すぎると、飛ぶが怒られる\n",
    "            print(\"************「飛ぶが怒られる！」************\")\n",
    "            print(volume)\n",
    "            pygame.mixer.music.stop()\n",
    "            shot_hair(ser) #髪の毛を飛ばす\n",
    "            shout_voice1(\"voice/飛ばしすぎ.mp3\") #怒られる\n",
    "            #time.sleep(1)\n",
    "            #stop_game(stream, p)\n",
    "            break\n",
    "    else:\n",
    "        time.sleep(1)\n",
    "\n",
    "        \n",
    "time.sleep(1)\n",
    "stop_game(stream, p)\n",
    "\n",
    "print(\"Game Over\")\n",
    "pygame.mixer.music.stop()\n",
    "\n",
    "time.sleep(2)\n",
    "initialize_neck(ser)\n",
    "time.sleep(2)\n",
    "ser.close()\n",
    "print(\"ゲーム終了\")"
   ]
  },
  {
   "cell_type": "markdown",
   "metadata": {},
   "source": [
    "# その他"
   ]
  },
  {
   "cell_type": "markdown",
   "metadata": {},
   "source": [
    "## 音声保存(wav)"
   ]
  },
  {
   "cell_type": "code",
   "execution_count": 128,
   "metadata": {},
   "outputs": [
    {
     "name": "stdout",
     "output_type": "stream",
     "text": [
      "* recording\n",
      "* done recording\n"
     ]
    }
   ],
   "source": [
    "# 音声の保存\n",
    "\n",
    "import pyaudio\n",
    "import wave\n",
    "\n",
    "CHUNK = 1024\n",
    "FORMAT = pyaudio.paInt16 # int16型\n",
    "CHANNELS = 2             # ステレオ\n",
    "RATE = 44100             # 441.kHz\n",
    "RECORD_SECONDS = 5      # 5秒録音\n",
    "WAVE_OUTPUT_FILENAME = \"voice/sample.wav\"\n",
    "\n",
    "p = pyaudio.PyAudio()\n",
    "\n",
    "stream = p.open(format=FORMAT,\n",
    "                channels=CHANNELS,\n",
    "                rate=RATE,\n",
    "                input=True,\n",
    "                frames_per_buffer=CHUNK)\n",
    "\n",
    "print(\"* recording\")\n",
    "\n",
    "frames = []\n",
    "\n",
    "for i in range(0, int(RATE / CHUNK * RECORD_SECONDS)):\n",
    "    data = stream.read(CHUNK)\n",
    "    frames.append(data)\n",
    "\n",
    "print(\"* done recording\")\n",
    "\n",
    "stream.stop_stream()\n",
    "stream.close()\n",
    "p.terminate()\n",
    "\n",
    "wf = wave.open(WAVE_OUTPUT_FILENAME, 'wb')\n",
    "wf.setnchannels(CHANNELS)\n",
    "wf.setsampwidth(p.get_sample_size(FORMAT))\n",
    "wf.setframerate(RATE)\n",
    "wf.writeframes(b''.join(frames))\n",
    "wf.close()"
   ]
  },
  {
   "cell_type": "code",
   "execution_count": 131,
   "metadata": {},
   "outputs": [
    {
     "name": "stdout",
     "output_type": "stream",
     "text": [
      "音声開始\n",
      "音声終了\n"
     ]
    }
   ],
   "source": [
    "# 確認\n",
    "shout_voice(\"voice/sample.wav\")"
   ]
  },
  {
   "cell_type": "markdown",
   "metadata": {},
   "source": [
    "## 音声出力(wav)"
   ]
  },
  {
   "cell_type": "code",
   "execution_count": 94,
   "metadata": {},
   "outputs": [],
   "source": [
    "# 音声の出力\n",
    "\n",
    "import pyaudio\n",
    "import wave\n",
    "\n",
    "CHUNK = 1024\n",
    "filename=\"voice/sample.wav\"\n",
    "\n",
    "wf = wave.open(filename, 'rb')\n",
    "\n",
    "p = pyaudio.PyAudio()\n",
    "\n",
    "stream = p.open(format=p.get_format_from_width(wf.getsampwidth()),\n",
    "                channels=wf.getnchannels(),\n",
    "                rate=wf.getframerate(),\n",
    "                output=True)\n",
    "\n",
    "\"\"\" \n",
    "   format  : ストリームを読み書きするときのデータ型\n",
    "   channels: ステレオかモノラルかの選択 1でモノラル 2でステレオ\n",
    "   rate    : サンプル周波数\n",
    "   output  : 出力モード\n",
    "\n",
    "\"\"\"\n",
    "\n",
    "# 1024個読み取り\n",
    "data = wf.readframes(CHUNK)\n",
    "\n",
    "while data != '':\n",
    "    stream.write(data)          \n",
    "    data = wf.readframes(CHUNK) \n",
    "\n",
    "stream.stop_stream()\n",
    "stream.close()\n",
    "\n",
    "p.terminate()"
   ]
  },
  {
   "cell_type": "markdown",
   "metadata": {},
   "source": [
    "## 音声出力(mp3)"
   ]
  },
  {
   "cell_type": "code",
   "execution_count": 162,
   "metadata": {},
   "outputs": [],
   "source": [
    "import pygame\n",
    "import time\n",
    "\n",
    "pygame.mixer.init()\n",
    "pygame.mixer.music.load(\"voice/成功.mp3\")\n",
    "pygame.mixer.music.play(1)\n",
    "time.sleep(2)\n",
    "pygame.mixer.music.load(\"voice/飛ばしすぎ.mp3\")\n",
    "#pygame.mixer.music.set_volume(3.5) # ボリュームの設定\n",
    "pygame.mixer.music.play(1)\n",
    "time.sleep(5)\n",
    "#pygame.mixer.music.queue('voice/時間オーバー.mp3')\n",
    "#print(pygame.mixer.music.get_busy())\n",
    "pygame.mixer.music.load(\"voice/時間オーバー.mp3\")\n",
    "pygame.mixer.music.play(1)"
   ]
  },
  {
   "cell_type": "markdown",
   "metadata": {},
   "source": [
    "## 音量取得方法の検討"
   ]
  },
  {
   "cell_type": "code",
   "execution_count": null,
   "metadata": {},
   "outputs": [],
   "source": [
    "# 1秒間の入力音声データから、RMSで音量算出し、最大音量を取得する\n",
    "import pyaudio\n",
    "import wave\n",
    "import time\n",
    "import numpy as np\n",
    "import threading\n",
    "\n",
    "CHUNK = 1024\n",
    "FORMAT = pyaudio.paInt16 # int16型\n",
    "CHANNELS = 1             # モノラル\n",
    "RATE = 16000             # 160.kHz\n",
    "RECORD_SECONDS = 1       # 1秒録音\n",
    "data_rms = []\n",
    "loopcounter = 0\n",
    "plottime = 1\n",
    "\n",
    "p = pyaudio.PyAudio()\n",
    "\n",
    "while True:\n",
    "    stream = p.open(format = FORMAT,\n",
    "                   channels = CHANNELS,\n",
    "                   rate = RATE,\n",
    "                   input = True,\n",
    "                   frames_per_buffer = CHUNK)\n",
    "    all = []\n",
    "    for i in range(0, RATE / CHUNK * RECORD_SECONDS):\n",
    "        data = stream.read(CHUNK)\n",
    "        all.append(data)\n",
    "    \n",
    "    data = ''.join(all)\n",
    "    data = np.frombuffer(data, dtype = \"int16\")\n",
    "    \n",
    "    # numpyのarrayに変換\n",
    "    np_data = np.array(data, dtype = np.float64)\n",
    "    \n",
    "    # downsampling\n",
    "    overhang = len(np_data) % 100\n",
    "    down_data = np_data[:-overhang]\n",
    "    down_data = np.reshape(down_data, (len(down_data)/100, 100))\n",
    "    down_data = np.average(down_data, 1)\n",
    "    \n",
    "    # RMS計算\n",
    "    rms = np.sqrt(np.mean(np.square(down_data)))\n",
    "    print(rms)\n",
    "    data_rms.append(rms)\n",
    "    stream.close()\n",
    "    loopcounter += 1\n",
    "    if loopcounter == plottime:\n",
    "        break"
   ]
  }
 ],
 "metadata": {
  "kernelspec": {
   "display_name": "Python 2",
   "language": "python",
   "name": "python2"
  },
  "language_info": {
   "codemirror_mode": {
    "name": "ipython",
    "version": 2
   },
   "file_extension": ".py",
   "mimetype": "text/x-python",
   "name": "python",
   "nbconvert_exporter": "python",
   "pygments_lexer": "ipython2",
   "version": "2.7.13"
  },
  "toc": {
   "colors": {
    "hover_highlight": "#DAA520",
    "navigate_num": "#000000",
    "navigate_text": "#333333",
    "running_highlight": "#FF0000",
    "selected_highlight": "#FFD700",
    "sidebar_border": "#EEEEEE",
    "wrapper_background": "#FFFFFF"
   },
   "moveMenuLeft": true,
   "nav_menu": {
    "height": "30px",
    "width": "252px"
   },
   "navigate_menu": true,
   "number_sections": true,
   "sideBar": true,
   "threshold": 4,
   "toc_cell": false,
   "toc_section_display": "block",
   "toc_window_display": true,
   "widenNotebook": false
  }
 },
 "nbformat": 4,
 "nbformat_minor": 2
}
